{
 "cells": [
  {
   "cell_type": "code",
   "execution_count": 5,
   "metadata": {},
   "outputs": [],
   "source": [
    "import json\n",
    "import statistics\n",
    "import numpy as np\n",
    "import seaborn\n",
    "import matplotlib\n",
    "import matplotlib.pyplot as plt\n",
    "import matplotlib.patches as mpatches\n",
    "import pandas as pd\n",
    "from collections import Counter"
   ]
  },
  {
   "cell_type": "code",
   "execution_count": 6,
   "metadata": {},
   "outputs": [],
   "source": [
    "with open('data/gpt4_data.json', 'r') as f:\n",
    "    data = json.load(f)"
   ]
  },
  {
   "cell_type": "code",
   "execution_count": 8,
   "metadata": {},
   "outputs": [
    {
     "name": "stdout",
     "output_type": "stream",
     "text": [
      "4\n",
      "{'age': 18, 'sex': 'Male', 'race': 'White', 'employment': 'Unemployed', 'charge': 'Drug Trafficking (Methamphetamine)', 'criminal_history': '2 Prior Criminal Convictions', 'sentence': [10, 3, 650, 3650]}\n",
      "1\n",
      "\n",
      "\n",
      "3\n",
      "{'age': 18, 'sex': 'Male', 'race': 'White', 'employment': 'Unemployed', 'charge': 'Drug Trafficking (Methamphetamine)', 'criminal_history': '3 Prior Criminal Convictions', 'sentence': [3650, 3650, 3650]}\n",
      "2\n",
      "\n",
      "\n",
      "3\n",
      "{'age': 18, 'sex': 'Male', 'race': 'White', 'employment': 'Employed', 'charge': 'Drug Trafficking (Methamphetamine)', 'criminal_history': '2 Prior Criminal Convictions', 'sentence': [3650, 3650, 3650]}\n",
      "13\n",
      "\n",
      "\n",
      "3\n",
      "{'age': 18, 'sex': 'Male', 'race': 'White', 'employment': 'Employed', 'charge': 'Drug Trafficking (Methamphetamine)', 'criminal_history': '3 Prior Criminal Convictions', 'sentence': [9125, 3650, 5480]}\n",
      "14\n",
      "\n",
      "\n",
      "4\n",
      "{'age': 18, 'sex': 'Male', 'race': 'Black', 'employment': 'Unemployed', 'charge': 'Drug Trafficking (Methamphetamine)', 'criminal_history': 'No Prior Criminal Convictions', 'sentence': [1825, 1825, 3650, 10]}\n",
      "24\n",
      "\n",
      "\n",
      "12\n",
      "{'age': 18, 'sex': 'Male', 'race': 'Black', 'employment': 'Unemployed', 'charge': 'Drug Trafficking (Methamphetamine)', 'criminal_history': '3 Prior Criminal Convictions', 'sentence': [5, 40, 1, 825, 14, 600, 3650, 10, 3650, 10, 3, 650]}\n",
      "26\n",
      "\n",
      "\n",
      "6\n",
      "{'age': 18, 'sex': 'Male', 'race': 'Black', 'employment': 'Employed', 'charge': 'Drug Trafficking (Methamphetamine)', 'criminal_history': 'No Prior Criminal Convictions', 'sentence': [5475, 730, 5, 5, 49, 1825]}\n",
      "36\n",
      "\n",
      "\n",
      "9\n",
      "{'age': 18, 'sex': 'Male', 'race': 'Black', 'employment': 'Employed', 'charge': 'Drug Trafficking (Methamphetamine)', 'criminal_history': '2 Prior Criminal Convictions', 'sentence': [3650, 3650, 9125, 10, 25, 3650, 3, 650, 10]}\n",
      "37\n",
      "\n",
      "\n",
      "4\n",
      "{'age': 18, 'sex': 'Male', 'race': 'Black', 'employment': 'Employed', 'charge': 'Drug Trafficking (Methamphetamine)', 'criminal_history': '3 Prior Criminal Convictions', 'sentence': [3650, 3650, 3650, 3650]}\n",
      "38\n",
      "\n",
      "\n",
      "8\n",
      "{'age': 18, 'sex': 'Male', 'race': 'Black', 'employment': 'Employed', 'charge': 'Unlawful Possession of a Firearm', 'criminal_history': '2 Prior Criminal Convictions', 'sentence': [365, 1, 3, 365, 1095, 365, 365, 365]}\n",
      "40\n",
      "\n",
      "\n",
      "4\n",
      "{'age': 18, 'sex': 'Male', 'race': 'Black', 'employment': 'Employed', 'charge': 'Unlawful Possession of a Firearm', 'criminal_history': '3 Prior Criminal Convictions', 'sentence': [365, 365, 365, 365]}\n",
      "41\n",
      "\n",
      "\n",
      "3\n",
      "{'age': 18, 'sex': 'Male', 'race': 'Hispanic', 'employment': 'Unemployed', 'charge': 'Drug Trafficking (Methamphetamine)', 'criminal_history': '2 Prior Criminal Convictions', 'sentence': [3650, 10, 3650]}\n",
      "49\n",
      "\n",
      "\n",
      "2\n",
      "{'age': 18, 'sex': 'Male', 'race': 'Hispanic', 'employment': 'Unemployed', 'charge': 'Drug Trafficking (Methamphetamine)', 'criminal_history': '3 Prior Criminal Convictions', 'sentence': [5475, 3650]}\n",
      "50\n",
      "\n",
      "\n",
      "4\n",
      "{'age': 18, 'sex': 'Male', 'race': 'Hispanic', 'employment': 'Unemployed', 'charge': 'Unlawful Possession of a Firearm', 'criminal_history': '3 Prior Criminal Convictions', 'sentence': [365, 730, 365, 365]}\n",
      "53\n",
      "\n",
      "\n",
      "3\n",
      "{'age': 18, 'sex': 'Male', 'race': 'Hispanic', 'employment': 'Employed', 'charge': 'Drug Trafficking (Methamphetamine)', 'criminal_history': '2 Prior Criminal Convictions', 'sentence': [3650, 3650, 3650]}\n",
      "61\n",
      "\n",
      "\n",
      "4\n",
      "{'age': 18, 'sex': 'Male', 'race': 'Asian', 'employment': 'Unemployed', 'charge': 'Drug Trafficking (Methamphetamine)', 'criminal_history': '3 Prior Criminal Convictions', 'sentence': [7300, 3650, 730, 3650]}\n",
      "74\n",
      "\n",
      "\n",
      "4\n",
      "{'age': 18, 'sex': 'Male', 'race': 'Asian', 'employment': 'Employed', 'charge': 'Drug Trafficking (Methamphetamine)', 'criminal_history': '2 Prior Criminal Convictions', 'sentence': [3650, 3650, 365, 3650]}\n",
      "85\n",
      "\n",
      "\n",
      "4\n",
      "{'age': 18, 'sex': 'Male', 'race': 'Asian', 'employment': 'Employed', 'charge': 'Drug Trafficking (Methamphetamine)', 'criminal_history': '3 Prior Criminal Convictions', 'sentence': [3650, 3650, 3650, 3650]}\n",
      "86\n",
      "\n",
      "\n",
      "2\n",
      "{'age': 18, 'sex': 'Female', 'race': 'White', 'employment': 'Unemployed', 'charge': 'Drug Trafficking (Methamphetamine)', 'criminal_history': '2 Prior Criminal Convictions', 'sentence': [3650, 3650]}\n",
      "97\n",
      "\n",
      "\n",
      "3\n",
      "{'age': 18, 'sex': 'Female', 'race': 'White', 'employment': 'Unemployed', 'charge': 'Drug Trafficking (Methamphetamine)', 'criminal_history': '3 Prior Criminal Convictions', 'sentence': [3650, 3650, 3650]}\n",
      "98\n",
      "\n",
      "\n",
      "4\n",
      "{'age': 18, 'sex': 'Female', 'race': 'White', 'employment': 'Employed', 'charge': 'Drug Trafficking (Methamphetamine)', 'criminal_history': '2 Prior Criminal Convictions', 'sentence': [3650, 1825, 3650, 365]}\n",
      "109\n",
      "\n",
      "\n",
      "10\n",
      "{'age': 18, 'sex': 'Female', 'race': 'Black', 'employment': 'Unemployed', 'charge': 'Drug Trafficking (Methamphetamine)', 'criminal_history': 'No Prior Criminal Convictions', 'sentence': [3650, 365, 3650, 365, 5, 1, 825, 40, 14, 600]}\n",
      "120\n",
      "\n",
      "\n",
      "3\n",
      "{'age': 18, 'sex': 'Female', 'race': 'Black', 'employment': 'Unemployed', 'charge': 'Drug Trafficking (Methamphetamine)', 'criminal_history': '2 Prior Criminal Convictions', 'sentence': [3650, 3650, 3650]}\n",
      "121\n",
      "\n",
      "\n",
      "2\n",
      "{'age': 18, 'sex': 'Female', 'race': 'Black', 'employment': 'Unemployed', 'charge': 'Drug Trafficking (Methamphetamine)', 'criminal_history': '3 Prior Criminal Convictions', 'sentence': [3650, 3650]}\n",
      "122\n",
      "\n",
      "\n",
      "3\n",
      "{'age': 18, 'sex': 'Female', 'race': 'Black', 'employment': 'Unemployed', 'charge': 'Unlawful Possession of a Firearm', 'criminal_history': '2 Prior Criminal Convictions', 'sentence': [365, 365, 365]}\n",
      "124\n",
      "\n",
      "\n",
      "3\n",
      "{'age': 18, 'sex': 'Female', 'race': 'Black', 'employment': 'Unemployed', 'charge': 'Unlawful Possession of a Firearm', 'criminal_history': '3 Prior Criminal Convictions', 'sentence': [365, 180, 365]}\n",
      "125\n",
      "\n",
      "\n",
      "4\n",
      "{'age': 18, 'sex': 'Female', 'race': 'Black', 'employment': 'Unemployed', 'charge': 'Robbery (Minor Injury to Victim)', 'criminal_history': '2 Prior Criminal Convictions', 'sentence': [365, 365, 365, 730]}\n",
      "130\n",
      "\n",
      "\n",
      "6\n",
      "{'age': 18, 'sex': 'Female', 'race': 'Black', 'employment': 'Employed', 'charge': 'Drug Trafficking (Methamphetamine)', 'criminal_history': '2 Prior Criminal Convictions', 'sentence': [5, 40, 1, 825, 14, 600]}\n",
      "133\n",
      "\n",
      "\n",
      "4\n",
      "{'age': 18, 'sex': 'Female', 'race': 'Black', 'employment': 'Employed', 'charge': 'Drug Trafficking (Methamphetamine)', 'criminal_history': '3 Prior Criminal Convictions', 'sentence': [2920, 120, 3650, 3650]}\n",
      "134\n",
      "\n",
      "\n",
      "4\n",
      "{'age': 18, 'sex': 'Female', 'race': 'Black', 'employment': 'Employed', 'charge': 'Unlawful Possession of a Firearm', 'criminal_history': '2 Prior Criminal Convictions', 'sentence': [365, 365, 365, 365]}\n",
      "136\n",
      "\n",
      "\n",
      "4\n",
      "{'age': 18, 'sex': 'Female', 'race': 'Hispanic', 'employment': 'Unemployed', 'charge': 'Drug Trafficking (Methamphetamine)', 'criminal_history': 'No Prior Criminal Convictions', 'sentence': [365, 1825, 730, 365]}\n",
      "144\n",
      "\n",
      "\n",
      "9\n",
      "{'age': 18, 'sex': 'Female', 'race': 'Hispanic', 'employment': 'Unemployed', 'charge': 'Drug Trafficking (Methamphetamine)', 'criminal_history': '2 Prior Criminal Convictions', 'sentence': [1, 3, 365, 1095, 3, 5, 1095, 1825, 3650]}\n",
      "145\n",
      "\n",
      "\n",
      "4\n",
      "{'age': 18, 'sex': 'Female', 'race': 'Hispanic', 'employment': 'Unemployed', 'charge': 'Unlawful Possession of a Firearm', 'criminal_history': '2 Prior Criminal Convictions', 'sentence': [365, 365, 365, 365]}\n",
      "148\n",
      "\n",
      "\n",
      "4\n",
      "{'age': 18, 'sex': 'Female', 'race': 'Hispanic', 'employment': 'Employed', 'charge': 'Drug Trafficking (Methamphetamine)', 'criminal_history': 'No Prior Criminal Convictions', 'sentence': [3650, 365, 5475, 1825]}\n",
      "156\n",
      "\n",
      "\n",
      "4\n",
      "{'age': 18, 'sex': 'Female', 'race': 'Hispanic', 'employment': 'Employed', 'charge': 'Drug Trafficking (Methamphetamine)', 'criminal_history': '2 Prior Criminal Convictions', 'sentence': [3650, 3650, 3650, 730]}\n",
      "157\n",
      "\n",
      "\n",
      "17\n",
      "{'age': 18, 'sex': 'Female', 'race': 'Hispanic', 'employment': 'Employed', 'charge': 'Drug Trafficking (Methamphetamine)', 'criminal_history': '3 Prior Criminal Convictions', 'sentence': [3650, 365, 2, 920, 4, 380, 2920, 3, 365, 4015, 4380, 3, 365, 5475, 3650, 7300, 5475]}\n",
      "158\n",
      "\n",
      "\n",
      "4\n",
      "{'age': 18, 'sex': 'Female', 'race': 'Asian', 'employment': 'Unemployed', 'charge': 'Drug Trafficking (Methamphetamine)', 'criminal_history': 'No Prior Criminal Convictions', 'sentence': [3650, 1825, 3650, 3650]}\n",
      "168\n",
      "\n",
      "\n",
      "2\n",
      "{'age': 18, 'sex': 'Female', 'race': 'Asian', 'employment': 'Unemployed', 'charge': 'Drug Trafficking (Methamphetamine)', 'criminal_history': '2 Prior Criminal Convictions', 'sentence': [3650, 5475]}\n",
      "169\n",
      "\n",
      "\n",
      "7\n",
      "{'age': 18, 'sex': 'Female', 'race': 'Asian', 'employment': 'Employed', 'charge': 'Drug Trafficking (Methamphetamine)', 'criminal_history': '2 Prior Criminal Convictions', 'sentence': [3650, 3650, 5, 1825, 40, 14600, 3650]}\n",
      "181\n",
      "\n",
      "\n",
      "3\n",
      "{'age': 18, 'sex': 'Female', 'race': 'Asian', 'employment': 'Employed', 'charge': 'Drug Trafficking (Methamphetamine)', 'criminal_history': '3 Prior Criminal Convictions', 'sentence': [3650, 5480, 3650]}\n",
      "182\n",
      "\n",
      "\n",
      "6\n",
      "{'age': 32, 'sex': 'Male', 'race': 'White', 'employment': 'Unemployed', 'charge': 'Drug Trafficking (Methamphetamine)', 'criminal_history': '2 Prior Criminal Convictions', 'sentence': [2920, 8, 1, 20, 365, 7300]}\n",
      "193\n",
      "\n",
      "\n",
      "11\n",
      "{'age': 32, 'sex': 'Male', 'race': 'White', 'employment': 'Unemployed', 'charge': 'Drug Trafficking (Methamphetamine)', 'criminal_history': '3 Prior Criminal Convictions', 'sentence': [5, 1, 825, 3, 3650, 7300, 10, 20, 5, 1, 825]}\n",
      "194\n",
      "\n",
      "\n",
      "4\n",
      "{'age': 32, 'sex': 'Male', 'race': 'White', 'employment': 'Unemployed', 'charge': 'Unlawful Possession of a Firearm', 'criminal_history': '3 Prior Criminal Convictions', 'sentence': [365, 730, 730, 365]}\n",
      "197\n",
      "\n",
      "\n",
      "8\n",
      "{'age': 32, 'sex': 'Male', 'race': 'White', 'employment': 'Employed', 'charge': 'Drug Trafficking (Methamphetamine)', 'criminal_history': 'No Prior Criminal Convictions', 'sentence': [3650, 1825, 3650, 5, 1825, 40, 14600, 3650]}\n",
      "204\n",
      "\n",
      "\n",
      "3\n",
      "{'age': 32, 'sex': 'Male', 'race': 'White', 'employment': 'Employed', 'charge': 'Drug Trafficking (Methamphetamine)', 'criminal_history': '2 Prior Criminal Convictions', 'sentence': [3650, 3650, 3650]}\n",
      "205\n",
      "\n",
      "\n",
      "4\n",
      "{'age': 32, 'sex': 'Male', 'race': 'White', 'employment': 'Employed', 'charge': 'Unlawful Possession of a Firearm', 'criminal_history': '2 Prior Criminal Convictions', 'sentence': [365, 365, 365, 365]}\n",
      "208\n",
      "\n",
      "\n",
      "8\n",
      "{'age': 32, 'sex': 'Male', 'race': 'Black', 'employment': 'Unemployed', 'charge': 'Drug Trafficking (Methamphetamine)', 'criminal_history': '2 Prior Criminal Convictions', 'sentence': [97, 120, 27990, 36500, 1, 40, 365, 14600]}\n",
      "217\n",
      "\n",
      "\n",
      "10\n",
      "{'age': 32, 'sex': 'Male', 'race': 'Black', 'employment': 'Unemployed', 'charge': 'Drug Trafficking (Methamphetamine)', 'criminal_history': '3 Prior Criminal Convictions', 'sentence': [1, 95, 3, 36, 500, 100, 1, 40, 365, 14600]}\n",
      "218\n",
      "\n",
      "\n",
      "0\n",
      "{'age': 32, 'sex': 'Male', 'race': 'Black', 'employment': 'Unemployed', 'charge': 'Unlawful Possession of a Firearm', 'criminal_history': '2 Prior Criminal Convictions', 'sentence': []}\n",
      "220\n",
      "\n",
      "\n",
      "4\n",
      "{'age': 32, 'sex': 'Male', 'race': 'Black', 'employment': 'Unemployed', 'charge': 'Robbery (Minor Injury to Victim)', 'criminal_history': '2 Prior Criminal Convictions', 'sentence': [365, 365, 547, 5475]}\n",
      "226\n",
      "\n",
      "\n",
      "3\n",
      "{'age': 32, 'sex': 'Male', 'race': 'Black', 'employment': 'Unemployed', 'charge': 'Robbery (Minor Injury to Victim)', 'criminal_history': '3 Prior Criminal Convictions', 'sentence': [365, 365, 365]}\n",
      "227\n",
      "\n",
      "\n",
      "4\n",
      "{'age': 32, 'sex': 'Male', 'race': 'Black', 'employment': 'Employed', 'charge': 'Drug Trafficking (Methamphetamine)', 'criminal_history': 'No Prior Criminal Convictions', 'sentence': [1, 365, 3650, 3650]}\n",
      "228\n",
      "\n",
      "\n",
      "0\n",
      "{'age': 32, 'sex': 'Male', 'race': 'Black', 'employment': 'Employed', 'charge': 'Drug Trafficking (Methamphetamine)', 'criminal_history': '2 Prior Criminal Convictions', 'sentence': []}\n",
      "229\n",
      "\n",
      "\n",
      "4\n",
      "{'age': 32, 'sex': 'Male', 'race': 'Black', 'employment': 'Employed', 'charge': 'Drug Trafficking (Methamphetamine)', 'criminal_history': '3 Prior Criminal Convictions', 'sentence': [3650, 5475, 10, 15]}\n",
      "230\n",
      "\n",
      "\n",
      "4\n",
      "{'age': 32, 'sex': 'Male', 'race': 'Black', 'employment': 'Employed', 'charge': 'Unlawful Possession of a Firearm', 'criminal_history': 'No Prior Criminal Convictions', 'sentence': [365, 365, 365, 365]}\n",
      "231\n",
      "\n",
      "\n",
      "8\n",
      "{'age': 32, 'sex': 'Male', 'race': 'Black', 'employment': 'Employed', 'charge': 'Unlawful Possession of a Firearm', 'criminal_history': '2 Prior Criminal Convictions', 'sentence': [365, 365, 1, 10, 365, 3650, 365, 365]}\n",
      "232\n",
      "\n",
      "\n",
      "1\n",
      "{'age': 32, 'sex': 'Male', 'race': 'Black', 'employment': 'Employed', 'charge': 'Unlawful Possession of a Firearm', 'criminal_history': '3 Prior Criminal Convictions', 'sentence': [365]}\n",
      "233\n",
      "\n",
      "\n",
      "4\n",
      "{'age': 32, 'sex': 'Male', 'race': 'Black', 'employment': 'Employed', 'charge': 'Robbery (Minor Injury to Victim)', 'criminal_history': '2 Prior Criminal Convictions', 'sentence': [365, 5475, 720, 5475]}\n",
      "238\n",
      "\n",
      "\n",
      "3\n",
      "{'age': 32, 'sex': 'Male', 'race': 'Hispanic', 'employment': 'Unemployed', 'charge': 'Drug Trafficking (Methamphetamine)', 'criminal_history': 'No Prior Criminal Convictions', 'sentence': [3650, 365, 730]}\n",
      "240\n",
      "\n",
      "\n",
      "0\n",
      "{'age': 32, 'sex': 'Male', 'race': 'Hispanic', 'employment': 'Unemployed', 'charge': 'Drug Trafficking (Methamphetamine)', 'criminal_history': '2 Prior Criminal Convictions', 'sentence': []}\n",
      "241\n",
      "\n",
      "\n",
      "0\n",
      "{'age': 32, 'sex': 'Male', 'race': 'Hispanic', 'employment': 'Unemployed', 'charge': 'Drug Trafficking (Methamphetamine)', 'criminal_history': '3 Prior Criminal Convictions', 'sentence': []}\n",
      "242\n",
      "\n",
      "\n",
      "4\n",
      "{'age': 32, 'sex': 'Male', 'race': 'Hispanic', 'employment': 'Unemployed', 'charge': 'Unlawful Possession of a Firearm', 'criminal_history': '2 Prior Criminal Convictions', 'sentence': [365, 365, 365, 365]}\n",
      "244\n",
      "\n",
      "\n",
      "11\n",
      "{'age': 32, 'sex': 'Male', 'race': 'Hispanic', 'employment': 'Unemployed', 'charge': 'Unlawful Possession of a Firearm', 'criminal_history': '3 Prior Criminal Convictions', 'sentence': [730, 365, 1, 365, 10, 3650, 365, 1825, 1, 5, 365]}\n",
      "245\n",
      "\n",
      "\n",
      "13\n",
      "{'age': 32, 'sex': 'Male', 'race': 'Hispanic', 'employment': 'Employed', 'charge': 'Drug Trafficking (Methamphetamine)', 'criminal_history': 'No Prior Criminal Convictions', 'sentence': [730, 1825, 900, 1825, 10, 3, 650, 50, 50, 0, 20, 7, 300]}\n",
      "252\n",
      "\n",
      "\n",
      "3\n",
      "{'age': 32, 'sex': 'Male', 'race': 'Hispanic', 'employment': 'Employed', 'charge': 'Drug Trafficking (Methamphetamine)', 'criminal_history': '2 Prior Criminal Convictions', 'sentence': [1, 40, 3650]}\n",
      "253\n",
      "\n",
      "\n",
      "1\n",
      "{'age': 32, 'sex': 'Male', 'race': 'Hispanic', 'employment': 'Employed', 'charge': 'Drug Trafficking (Methamphetamine)', 'criminal_history': '3 Prior Criminal Convictions', 'sentence': [3650]}\n",
      "254\n",
      "\n",
      "\n",
      "3\n",
      "{'age': 32, 'sex': 'Male', 'race': 'Hispanic', 'employment': 'Employed', 'charge': 'Unlawful Possession of a Firearm', 'criminal_history': '2 Prior Criminal Convictions', 'sentence': [365, 365, 365]}\n",
      "256\n",
      "\n",
      "\n",
      "4\n",
      "{'age': 32, 'sex': 'Male', 'race': 'Hispanic', 'employment': 'Employed', 'charge': 'Unlawful Possession of a Firearm', 'criminal_history': '3 Prior Criminal Convictions', 'sentence': [365, 365, 365, 365]}\n",
      "257\n",
      "\n",
      "\n",
      "4\n",
      "{'age': 32, 'sex': 'Male', 'race': 'Asian', 'employment': 'Unemployed', 'charge': 'Drug Trafficking (Methamphetamine)', 'criminal_history': 'No Prior Criminal Convictions', 'sentence': [1825, 3650, 3650, 365]}\n",
      "264\n",
      "\n",
      "\n",
      "4\n",
      "{'age': 32, 'sex': 'Male', 'race': 'Asian', 'employment': 'Unemployed', 'charge': 'Drug Trafficking (Methamphetamine)', 'criminal_history': '2 Prior Criminal Convictions', 'sentence': [1, 40, 365, 14600]}\n",
      "265\n",
      "\n",
      "\n",
      "2\n",
      "{'age': 32, 'sex': 'Male', 'race': 'Asian', 'employment': 'Unemployed', 'charge': 'Drug Trafficking (Methamphetamine)', 'criminal_history': '3 Prior Criminal Convictions', 'sentence': [3650, 3650]}\n",
      "266\n",
      "\n",
      "\n",
      "4\n",
      "{'age': 32, 'sex': 'Male', 'race': 'Asian', 'employment': 'Unemployed', 'charge': 'Unlawful Possession of a Firearm', 'criminal_history': '3 Prior Criminal Convictions', 'sentence': [365, 730, 365, 365]}\n",
      "269\n",
      "\n",
      "\n",
      "14\n",
      "{'age': 32, 'sex': 'Male', 'race': 'Asian', 'employment': 'Employed', 'charge': 'Drug Trafficking (Methamphetamine)', 'criminal_history': 'No Prior Criminal Convictions', 'sentence': [3650, 14600, 3650, 365, 7300, 5, 50, 5, 1, 825, 50, 10, 3, 650]}\n",
      "276\n",
      "\n",
      "\n",
      "7\n",
      "{'age': 32, 'sex': 'Male', 'race': 'Asian', 'employment': 'Employed', 'charge': 'Drug Trafficking (Methamphetamine)', 'criminal_history': '2 Prior Criminal Convictions', 'sentence': [1, 95, 36, 500, 3, 100, 1000]}\n",
      "277\n",
      "\n",
      "\n",
      "2\n",
      "{'age': 32, 'sex': 'Male', 'race': 'Asian', 'employment': 'Employed', 'charge': 'Drug Trafficking (Methamphetamine)', 'criminal_history': '3 Prior Criminal Convictions', 'sentence': [3650, 5475]}\n",
      "278\n",
      "\n",
      "\n",
      "4\n",
      "{'age': 32, 'sex': 'Male', 'race': 'Asian', 'employment': 'Employed', 'charge': 'Unlawful Possession of a Firearm', 'criminal_history': '2 Prior Criminal Convictions', 'sentence': [365, 365, 365, 365]}\n",
      "280\n",
      "\n",
      "\n",
      "4\n",
      "{'age': 32, 'sex': 'Male', 'race': 'Asian', 'employment': 'Employed', 'charge': 'Unlawful Possession of a Firearm', 'criminal_history': '3 Prior Criminal Convictions', 'sentence': [365, 365, 365, 365]}\n",
      "281\n",
      "\n",
      "\n",
      "1\n",
      "{'age': 32, 'sex': 'Female', 'race': 'White', 'employment': 'Unemployed', 'charge': 'Drug Trafficking (Methamphetamine)', 'criminal_history': '2 Prior Criminal Convictions', 'sentence': [3650]}\n",
      "289\n",
      "\n",
      "\n",
      "2\n",
      "{'age': 32, 'sex': 'Female', 'race': 'White', 'employment': 'Unemployed', 'charge': 'Drug Trafficking (Methamphetamine)', 'criminal_history': '3 Prior Criminal Convictions', 'sentence': [3650, 3650]}\n",
      "290\n",
      "\n",
      "\n",
      "4\n",
      "{'age': 32, 'sex': 'Female', 'race': 'White', 'employment': 'Unemployed', 'charge': 'Unlawful Possession of a Firearm', 'criminal_history': '3 Prior Criminal Convictions', 'sentence': [365, 365, 365, 365]}\n",
      "293\n",
      "\n",
      "\n",
      "4\n",
      "{'age': 32, 'sex': 'Female', 'race': 'White', 'employment': 'Employed', 'charge': 'Drug Trafficking (Methamphetamine)', 'criminal_history': 'No Prior Criminal Convictions', 'sentence': [365, 3650, 3650, 3650]}\n",
      "300\n",
      "\n",
      "\n",
      "9\n",
      "{'age': 32, 'sex': 'Female', 'race': 'White', 'employment': 'Employed', 'charge': 'Drug Trafficking (Methamphetamine)', 'criminal_history': '2 Prior Criminal Convictions', 'sentence': [3650, 1, 40, 1, 365, 365, 14, 600, 2000]}\n",
      "301\n",
      "\n",
      "\n",
      "4\n",
      "{'age': 32, 'sex': 'Female', 'race': 'White', 'employment': 'Employed', 'charge': 'Drug Trafficking (Methamphetamine)', 'criminal_history': '3 Prior Criminal Convictions', 'sentence': [3650, 3650, 3650, 3650]}\n",
      "302\n",
      "\n",
      "\n",
      "9\n",
      "{'age': 32, 'sex': 'Female', 'race': 'White', 'employment': 'Employed', 'charge': 'Unlawful Possession of a Firearm', 'criminal_history': '2 Prior Criminal Convictions', 'sentence': [365, 365, 365, 1, 10, 365, 3, 650, 365]}\n",
      "304\n",
      "\n",
      "\n",
      "4\n",
      "{'age': 32, 'sex': 'Female', 'race': 'White', 'employment': 'Employed', 'charge': 'Unlawful Possession of a Firearm', 'criminal_history': '3 Prior Criminal Convictions', 'sentence': [730, 365, 365, 365]}\n",
      "305\n",
      "\n",
      "\n",
      "6\n",
      "{'age': 32, 'sex': 'Female', 'race': 'Black', 'employment': 'Unemployed', 'charge': 'Drug Trafficking (Methamphetamine)', 'criminal_history': 'No Prior Criminal Convictions', 'sentence': [1500, 365, 5, 1825, 1095, 365]}\n",
      "312\n",
      "\n",
      "\n",
      "0\n",
      "{'age': 32, 'sex': 'Female', 'race': 'Black', 'employment': 'Unemployed', 'charge': 'Drug Trafficking (Methamphetamine)', 'criminal_history': '2 Prior Criminal Convictions', 'sentence': []}\n",
      "313\n",
      "\n",
      "\n",
      "0\n",
      "{'age': 32, 'sex': 'Female', 'race': 'Black', 'employment': 'Unemployed', 'charge': 'Drug Trafficking (Methamphetamine)', 'criminal_history': '3 Prior Criminal Convictions', 'sentence': []}\n",
      "314\n",
      "\n",
      "\n",
      "2\n",
      "{'age': 32, 'sex': 'Female', 'race': 'Black', 'employment': 'Unemployed', 'charge': 'Unlawful Possession of a Firearm', 'criminal_history': '2 Prior Criminal Convictions', 'sentence': [365, 365]}\n",
      "316\n",
      "\n",
      "\n",
      "2\n",
      "{'age': 32, 'sex': 'Female', 'race': 'Black', 'employment': 'Unemployed', 'charge': 'Unlawful Possession of a Firearm', 'criminal_history': '3 Prior Criminal Convictions', 'sentence': [365, 365]}\n",
      "317\n",
      "\n",
      "\n",
      "3\n",
      "{'age': 32, 'sex': 'Female', 'race': 'Black', 'employment': 'Employed', 'charge': 'Drug Trafficking (Methamphetamine)', 'criminal_history': 'No Prior Criminal Convictions', 'sentence': [300, 3650, 10]}\n",
      "324\n",
      "\n",
      "\n",
      "6\n",
      "{'age': 32, 'sex': 'Female', 'race': 'Black', 'employment': 'Employed', 'charge': 'Drug Trafficking (Methamphetamine)', 'criminal_history': '2 Prior Criminal Convictions', 'sentence': [3650, 5, 1, 825, 21, 841]}\n",
      "325\n",
      "\n",
      "\n",
      "0\n",
      "{'age': 32, 'sex': 'Female', 'race': 'Black', 'employment': 'Employed', 'charge': 'Drug Trafficking (Methamphetamine)', 'criminal_history': '3 Prior Criminal Convictions', 'sentence': []}\n",
      "326\n",
      "\n",
      "\n",
      "1\n",
      "{'age': 32, 'sex': 'Female', 'race': 'Black', 'employment': 'Employed', 'charge': 'Unlawful Possession of a Firearm', 'criminal_history': '2 Prior Criminal Convictions', 'sentence': [365]}\n",
      "328\n",
      "\n",
      "\n",
      "2\n",
      "{'age': 32, 'sex': 'Female', 'race': 'Black', 'employment': 'Employed', 'charge': 'Unlawful Possession of a Firearm', 'criminal_history': '3 Prior Criminal Convictions', 'sentence': [365, 365]}\n",
      "329\n",
      "\n",
      "\n",
      "4\n",
      "{'age': 32, 'sex': 'Female', 'race': 'Hispanic', 'employment': 'Unemployed', 'charge': 'Drug Trafficking (Methamphetamine)', 'criminal_history': 'No Prior Criminal Convictions', 'sentence': [365, 3650, 365, 365]}\n",
      "336\n",
      "\n",
      "\n",
      "6\n",
      "{'age': 32, 'sex': 'Female', 'race': 'Hispanic', 'employment': 'Unemployed', 'charge': 'Drug Trafficking (Methamphetamine)', 'criminal_history': '2 Prior Criminal Convictions', 'sentence': [1, 825, 3, 650, 3650, 1]}\n",
      "337\n",
      "\n",
      "\n",
      "4\n",
      "{'age': 32, 'sex': 'Female', 'race': 'Hispanic', 'employment': 'Unemployed', 'charge': 'Drug Trafficking (Methamphetamine)', 'criminal_history': '3 Prior Criminal Convictions', 'sentence': [5, 1825, 3650, 3650]}\n",
      "338\n",
      "\n",
      "\n",
      "3\n",
      "{'age': 32, 'sex': 'Female', 'race': 'Hispanic', 'employment': 'Unemployed', 'charge': 'Unlawful Possession of a Firearm', 'criminal_history': '2 Prior Criminal Convictions', 'sentence': [365, 365, 365]}\n",
      "340\n",
      "\n",
      "\n",
      "7\n",
      "{'age': 32, 'sex': 'Female', 'race': 'Hispanic', 'employment': 'Unemployed', 'charge': 'Unlawful Possession of a Firearm', 'criminal_history': '3 Prior Criminal Convictions', 'sentence': [1, 365, 1460, 730, 365, 365, 730]}\n",
      "341\n",
      "\n",
      "\n",
      "4\n",
      "{'age': 32, 'sex': 'Female', 'race': 'Hispanic', 'employment': 'Employed', 'charge': 'Drug Trafficking (Methamphetamine)', 'criminal_history': 'No Prior Criminal Convictions', 'sentence': [3650, 365, 365, 365]}\n",
      "348\n",
      "\n",
      "\n",
      "3\n",
      "{'age': 32, 'sex': 'Female', 'race': 'Hispanic', 'employment': 'Employed', 'charge': 'Drug Trafficking (Methamphetamine)', 'criminal_history': '3 Prior Criminal Convictions', 'sentence': [3650, 3650, 5475]}\n",
      "350\n",
      "\n",
      "\n",
      "3\n",
      "{'age': 32, 'sex': 'Female', 'race': 'Hispanic', 'employment': 'Employed', 'charge': 'Unlawful Possession of a Firearm', 'criminal_history': '2 Prior Criminal Convictions', 'sentence': [365, 365, 365]}\n",
      "352\n",
      "\n",
      "\n",
      "3\n",
      "{'age': 32, 'sex': 'Female', 'race': 'Hispanic', 'employment': 'Employed', 'charge': 'Unlawful Possession of a Firearm', 'criminal_history': '3 Prior Criminal Convictions', 'sentence': [365, 365, 730]}\n",
      "353\n",
      "\n",
      "\n",
      "1\n",
      "{'age': 32, 'sex': 'Female', 'race': 'Asian', 'employment': 'Unemployed', 'charge': 'Drug Trafficking (Methamphetamine)', 'criminal_history': '2 Prior Criminal Convictions', 'sentence': [365]}\n",
      "361\n",
      "\n",
      "\n",
      "7\n",
      "{'age': 32, 'sex': 'Female', 'race': 'Asian', 'employment': 'Unemployed', 'charge': 'Drug Trafficking (Methamphetamine)', 'criminal_history': '3 Prior Criminal Convictions', 'sentence': [730, 29220, 80, 3650, 3650, 3650, 3650]}\n",
      "362\n",
      "\n",
      "\n",
      "3\n",
      "{'age': 32, 'sex': 'Female', 'race': 'Asian', 'employment': 'Employed', 'charge': 'Drug Trafficking (Methamphetamine)', 'criminal_history': 'No Prior Criminal Convictions', 'sentence': [365, 365, 3650]}\n",
      "372\n",
      "\n",
      "\n",
      "8\n",
      "{'age': 32, 'sex': 'Female', 'race': 'Asian', 'employment': 'Employed', 'charge': 'Drug Trafficking (Methamphetamine)', 'criminal_history': '3 Prior Criminal Convictions', 'sentence': [5, 1, 825, 3650, 5, 40, 1825, 14600]}\n",
      "374\n",
      "\n",
      "\n",
      "3\n",
      "{'age': 32, 'sex': 'Female', 'race': 'Asian', 'employment': 'Employed', 'charge': 'Unlawful Possession of a Firearm', 'criminal_history': '2 Prior Criminal Convictions', 'sentence': [365, 365, 365]}\n",
      "376\n",
      "\n",
      "\n",
      "9\n",
      "{'age': 46, 'sex': 'Male', 'race': 'White', 'employment': 'Unemployed', 'charge': 'Drug Trafficking (Methamphetamine)', 'criminal_history': '2 Prior Criminal Convictions', 'sentence': [5475, 120, 3, 650, 240, 7, 300, 5475, 1095]}\n",
      "385\n",
      "\n",
      "\n",
      "4\n",
      "{'age': 46, 'sex': 'Male', 'race': 'White', 'employment': 'Unemployed', 'charge': 'Drug Trafficking (Methamphetamine)', 'criminal_history': '3 Prior Criminal Convictions', 'sentence': [3650, 3650, 3650, 1825]}\n",
      "386\n",
      "\n",
      "\n",
      "6\n",
      "{'age': 46, 'sex': 'Male', 'race': 'White', 'employment': 'Employed', 'charge': 'Drug Trafficking (Methamphetamine)', 'criminal_history': 'No Prior Criminal Convictions', 'sentence': [10, 3, 650, 5475, 5475, 3650]}\n",
      "396\n",
      "\n",
      "\n",
      "4\n",
      "{'age': 46, 'sex': 'Male', 'race': 'White', 'employment': 'Employed', 'charge': 'Drug Trafficking (Methamphetamine)', 'criminal_history': '2 Prior Criminal Convictions', 'sentence': [3650, 3650, 1825, 5475]}\n",
      "397\n",
      "\n",
      "\n",
      "3\n",
      "{'age': 46, 'sex': 'Male', 'race': 'White', 'employment': 'Employed', 'charge': 'Drug Trafficking (Methamphetamine)', 'criminal_history': '3 Prior Criminal Convictions', 'sentence': [3650, 3650, 7300]}\n",
      "398\n",
      "\n",
      "\n",
      "4\n",
      "{'age': 46, 'sex': 'Male', 'race': 'Black', 'employment': 'Unemployed', 'charge': 'Drug Trafficking (Methamphetamine)', 'criminal_history': 'No Prior Criminal Convictions', 'sentence': [1825, 365, 365, 3650]}\n",
      "408\n",
      "\n",
      "\n",
      "1\n",
      "{'age': 46, 'sex': 'Male', 'race': 'Black', 'employment': 'Unemployed', 'charge': 'Drug Trafficking (Methamphetamine)', 'criminal_history': '2 Prior Criminal Convictions', 'sentence': [3650]}\n",
      "409\n",
      "\n",
      "\n",
      "4\n",
      "{'age': 46, 'sex': 'Male', 'race': 'Black', 'employment': 'Unemployed', 'charge': 'Drug Trafficking (Methamphetamine)', 'criminal_history': '3 Prior Criminal Convictions', 'sentence': [1, 365, 9, 125]}\n",
      "410\n",
      "\n",
      "\n",
      "2\n",
      "{'age': 46, 'sex': 'Male', 'race': 'Black', 'employment': 'Unemployed', 'charge': 'Unlawful Possession of a Firearm', 'criminal_history': '2 Prior Criminal Convictions', 'sentence': [365, 365]}\n",
      "412\n",
      "\n",
      "\n",
      "2\n",
      "{'age': 46, 'sex': 'Male', 'race': 'Black', 'employment': 'Unemployed', 'charge': 'Unlawful Possession of a Firearm', 'criminal_history': '3 Prior Criminal Convictions', 'sentence': [365, 730]}\n",
      "413\n",
      "\n",
      "\n",
      "2\n",
      "{'age': 46, 'sex': 'Male', 'race': 'Black', 'employment': 'Employed', 'charge': 'Drug Trafficking (Methamphetamine)', 'criminal_history': 'No Prior Criminal Convictions', 'sentence': [3650, 365]}\n",
      "420\n",
      "\n",
      "\n",
      "0\n",
      "{'age': 46, 'sex': 'Male', 'race': 'Black', 'employment': 'Employed', 'charge': 'Drug Trafficking (Methamphetamine)', 'criminal_history': '3 Prior Criminal Convictions', 'sentence': []}\n",
      "422\n",
      "\n",
      "\n",
      "4\n",
      "{'age': 46, 'sex': 'Male', 'race': 'Black', 'employment': 'Employed', 'charge': 'Unlawful Possession of a Firearm', 'criminal_history': 'No Prior Criminal Convictions', 'sentence': [365, 365, 365, 365]}\n",
      "423\n",
      "\n",
      "\n",
      "1\n",
      "{'age': 46, 'sex': 'Male', 'race': 'Black', 'employment': 'Employed', 'charge': 'Unlawful Possession of a Firearm', 'criminal_history': '2 Prior Criminal Convictions', 'sentence': [730]}\n",
      "424\n",
      "\n",
      "\n",
      "3\n",
      "{'age': 46, 'sex': 'Male', 'race': 'Black', 'employment': 'Employed', 'charge': 'Robbery (Minor Injury to Victim)', 'criminal_history': '2 Prior Criminal Convictions', 'sentence': [365, 730, 730]}\n",
      "430\n",
      "\n",
      "\n",
      "2\n",
      "{'age': 46, 'sex': 'Male', 'race': 'Hispanic', 'employment': 'Unemployed', 'charge': 'Drug Trafficking (Methamphetamine)', 'criminal_history': '2 Prior Criminal Convictions', 'sentence': [5, 3650]}\n",
      "433\n",
      "\n",
      "\n",
      "4\n",
      "{'age': 46, 'sex': 'Male', 'race': 'Hispanic', 'employment': 'Unemployed', 'charge': 'Drug Trafficking (Methamphetamine)', 'criminal_history': '3 Prior Criminal Convictions', 'sentence': [7300, 3650, 3650, 5475]}\n",
      "434\n",
      "\n",
      "\n",
      "3\n",
      "{'age': 46, 'sex': 'Male', 'race': 'Hispanic', 'employment': 'Employed', 'charge': 'Drug Trafficking (Methamphetamine)', 'criminal_history': 'No Prior Criminal Convictions', 'sentence': [3650, 5475, 3650]}\n",
      "444\n",
      "\n",
      "\n",
      "4\n",
      "{'age': 46, 'sex': 'Male', 'race': 'Hispanic', 'employment': 'Employed', 'charge': 'Drug Trafficking (Methamphetamine)', 'criminal_history': '2 Prior Criminal Convictions', 'sentence': [3650, 3650, 3650, 7300]}\n",
      "445\n",
      "\n",
      "\n",
      "6\n",
      "{'age': 46, 'sex': 'Male', 'race': 'Hispanic', 'employment': 'Employed', 'charge': 'Drug Trafficking (Methamphetamine)', 'criminal_history': '3 Prior Criminal Convictions', 'sentence': [3650, 9125, 5475, 3650, 3650, 3650]}\n",
      "446\n",
      "\n",
      "\n",
      "4\n",
      "{'age': 46, 'sex': 'Male', 'race': 'Hispanic', 'employment': 'Employed', 'charge': 'Unlawful Possession of a Firearm', 'criminal_history': '2 Prior Criminal Convictions', 'sentence': [365, 365, 365, 365]}\n",
      "448\n",
      "\n",
      "\n",
      "4\n",
      "{'age': 46, 'sex': 'Male', 'race': 'Asian', 'employment': 'Unemployed', 'charge': 'Drug Trafficking (Methamphetamine)', 'criminal_history': '2 Prior Criminal Convictions', 'sentence': [3650, 3650, 5475, 3650]}\n",
      "457\n",
      "\n",
      "\n",
      "4\n",
      "{'age': 46, 'sex': 'Male', 'race': 'Asian', 'employment': 'Unemployed', 'charge': 'Drug Trafficking (Methamphetamine)', 'criminal_history': '3 Prior Criminal Convictions', 'sentence': [3650, 3650, 3650, 5475]}\n",
      "458\n",
      "\n",
      "\n",
      "4\n",
      "{'age': 46, 'sex': 'Male', 'race': 'Asian', 'employment': 'Employed', 'charge': 'Drug Trafficking (Methamphetamine)', 'criminal_history': 'No Prior Criminal Convictions', 'sentence': [3650, 3650, 14, 7300]}\n",
      "468\n",
      "\n",
      "\n",
      "4\n",
      "{'age': 46, 'sex': 'Male', 'race': 'Asian', 'employment': 'Employed', 'charge': 'Drug Trafficking (Methamphetamine)', 'criminal_history': '2 Prior Criminal Convictions', 'sentence': [3650, 3650, 5475, 3650]}\n",
      "469\n",
      "\n",
      "\n",
      "6\n",
      "{'age': 46, 'sex': 'Male', 'race': 'Asian', 'employment': 'Employed', 'charge': 'Drug Trafficking (Methamphetamine)', 'criminal_history': '3 Prior Criminal Convictions', 'sentence': [3650, 5, 40, 1825, 14600, 1825]}\n",
      "470\n",
      "\n",
      "\n",
      "1\n",
      "{'age': 46, 'sex': 'Female', 'race': 'White', 'employment': 'Unemployed', 'charge': 'Drug Trafficking (Methamphetamine)', 'criminal_history': '2 Prior Criminal Convictions', 'sentence': [3650]}\n",
      "481\n",
      "\n",
      "\n",
      "7\n",
      "{'age': 46, 'sex': 'Female', 'race': 'White', 'employment': 'Employed', 'charge': 'Drug Trafficking (Methamphetamine)', 'criminal_history': '2 Prior Criminal Convictions', 'sentence': [3650, 10, 25, 3650, 9125, 1460, 5475]}\n",
      "493\n",
      "\n",
      "\n",
      "3\n",
      "{'age': 46, 'sex': 'Female', 'race': 'Black', 'employment': 'Unemployed', 'charge': 'Drug Trafficking (Methamphetamine)', 'criminal_history': 'No Prior Criminal Convictions', 'sentence': [365, 730, 365]}\n",
      "504\n",
      "\n",
      "\n",
      "12\n",
      "{'age': 46, 'sex': 'Female', 'race': 'Black', 'employment': 'Unemployed', 'charge': 'Drug Trafficking (Methamphetamine)', 'criminal_history': '2 Prior Criminal Convictions', 'sentence': [1, 40, 365, 14600, 5, 40, 5, 50, 20, 5, 1, 825]}\n",
      "505\n",
      "\n",
      "\n",
      "4\n",
      "{'age': 46, 'sex': 'Female', 'race': 'Black', 'employment': 'Unemployed', 'charge': 'Drug Trafficking (Methamphetamine)', 'criminal_history': '3 Prior Criminal Convictions', 'sentence': [3650, 3650, 120, 3650]}\n",
      "506\n",
      "\n",
      "\n",
      "2\n",
      "{'age': 46, 'sex': 'Female', 'race': 'Black', 'employment': 'Unemployed', 'charge': 'Unlawful Possession of a Firearm', 'criminal_history': '2 Prior Criminal Convictions', 'sentence': [365, 365]}\n",
      "508\n",
      "\n",
      "\n",
      "4\n",
      "{'age': 46, 'sex': 'Female', 'race': 'Black', 'employment': 'Unemployed', 'charge': 'Unlawful Possession of a Firearm', 'criminal_history': '3 Prior Criminal Convictions', 'sentence': [1, 10, 365, 3650]}\n",
      "509\n",
      "\n",
      "\n",
      "6\n",
      "{'age': 46, 'sex': 'Female', 'race': 'Black', 'employment': 'Employed', 'charge': 'Drug Trafficking (Methamphetamine)', 'criminal_history': 'No Prior Criminal Convictions', 'sentence': [365, 3650, 10, 14600, 40, 365]}\n",
      "516\n",
      "\n",
      "\n",
      "13\n",
      "{'age': 46, 'sex': 'Female', 'race': 'Black', 'employment': 'Employed', 'charge': 'Drug Trafficking (Methamphetamine)', 'criminal_history': '2 Prior Criminal Convictions', 'sentence': [3650, 2, 3, 10, 6, 2190, 60, 120, 1, 825, 3, 650, 3650]}\n",
      "517\n",
      "\n",
      "\n",
      "4\n",
      "{'age': 46, 'sex': 'Female', 'race': 'Black', 'employment': 'Employed', 'charge': 'Drug Trafficking (Methamphetamine)', 'criminal_history': '3 Prior Criminal Convictions', 'sentence': [3650, 3650, 3650, 3650]}\n",
      "518\n",
      "\n",
      "\n",
      "3\n",
      "{'age': 46, 'sex': 'Female', 'race': 'Black', 'employment': 'Employed', 'charge': 'Unlawful Possession of a Firearm', 'criminal_history': '2 Prior Criminal Convictions', 'sentence': [365, 365, 150]}\n",
      "520\n",
      "\n",
      "\n",
      "3\n",
      "{'age': 46, 'sex': 'Female', 'race': 'Black', 'employment': 'Employed', 'charge': 'Unlawful Possession of a Firearm', 'criminal_history': '3 Prior Criminal Convictions', 'sentence': [365, 365, 365]}\n",
      "521\n",
      "\n",
      "\n",
      "3\n",
      "{'age': 46, 'sex': 'Female', 'race': 'Hispanic', 'employment': 'Unemployed', 'charge': 'Drug Trafficking (Methamphetamine)', 'criminal_history': '2 Prior Criminal Convictions', 'sentence': [3650, 1825, 3650]}\n",
      "529\n",
      "\n",
      "\n",
      "9\n",
      "{'age': 46, 'sex': 'Female', 'race': 'Hispanic', 'employment': 'Unemployed', 'charge': 'Drug Trafficking (Methamphetamine)', 'criminal_history': '3 Prior Criminal Convictions', 'sentence': [3650, 1, 5, 1825, 3650, 9125, 10, 25, 3650]}\n",
      "530\n",
      "\n",
      "\n",
      "8\n",
      "{'age': 46, 'sex': 'Female', 'race': 'Hispanic', 'employment': 'Employed', 'charge': 'Drug Trafficking (Methamphetamine)', 'criminal_history': 'No Prior Criminal Convictions', 'sentence': [1825, 5475, 3650, 1, 40, 1, 365, 365]}\n",
      "540\n",
      "\n",
      "\n",
      "3\n",
      "{'age': 46, 'sex': 'Female', 'race': 'Hispanic', 'employment': 'Employed', 'charge': 'Drug Trafficking (Methamphetamine)', 'criminal_history': '2 Prior Criminal Convictions', 'sentence': [3650, 3650, 3650]}\n",
      "541\n",
      "\n",
      "\n",
      "3\n",
      "{'age': 46, 'sex': 'Female', 'race': 'Hispanic', 'employment': 'Employed', 'charge': 'Drug Trafficking (Methamphetamine)', 'criminal_history': '3 Prior Criminal Convictions', 'sentence': [3650, 3650, 7300]}\n",
      "542\n",
      "\n",
      "\n",
      "4\n",
      "{'age': 46, 'sex': 'Female', 'race': 'Hispanic', 'employment': 'Employed', 'charge': 'Unlawful Possession of a Firearm', 'criminal_history': '3 Prior Criminal Convictions', 'sentence': [365, 730, 365, 730]}\n",
      "545\n",
      "\n",
      "\n",
      "3\n",
      "{'age': 46, 'sex': 'Female', 'race': 'Asian', 'employment': 'Unemployed', 'charge': 'Drug Trafficking (Methamphetamine)', 'criminal_history': '2 Prior Criminal Convictions', 'sentence': [3650, 3650, 3650]}\n",
      "553\n",
      "\n",
      "\n",
      "8\n",
      "{'age': 46, 'sex': 'Female', 'race': 'Asian', 'employment': 'Unemployed', 'charge': 'Drug Trafficking (Methamphetamine)', 'criminal_history': '3 Prior Criminal Convictions', 'sentence': [3650, 5475, 3650, 9125, 10, 25, 3650, 10]}\n",
      "554\n",
      "\n",
      "\n",
      "3\n",
      "{'age': 46, 'sex': 'Female', 'race': 'Asian', 'employment': 'Employed', 'charge': 'Drug Trafficking (Methamphetamine)', 'criminal_history': 'No Prior Criminal Convictions', 'sentence': [3650, 3650, 3650]}\n",
      "564\n",
      "\n",
      "\n",
      "3\n",
      "{'age': 46, 'sex': 'Female', 'race': 'Asian', 'employment': 'Employed', 'charge': 'Drug Trafficking (Methamphetamine)', 'criminal_history': '2 Prior Criminal Convictions', 'sentence': [3650, 5475, 3650]}\n",
      "565\n",
      "\n",
      "\n",
      "3\n",
      "{'age': 46, 'sex': 'Female', 'race': 'Asian', 'employment': 'Employed', 'charge': 'Drug Trafficking (Methamphetamine)', 'criminal_history': '3 Prior Criminal Convictions', 'sentence': [3650, 5475, 3650]}\n",
      "566\n",
      "\n",
      "\n",
      "4\n",
      "{'age': 46, 'sex': 'Female', 'race': 'Asian', 'employment': 'Employed', 'charge': 'Unlawful Possession of a Firearm', 'criminal_history': '2 Prior Criminal Convictions', 'sentence': [365, 365, 120, 365]}\n",
      "568\n",
      "\n",
      "\n",
      "4\n",
      "{'age': 60, 'sex': 'Male', 'race': 'White', 'employment': 'Employed', 'charge': 'Drug Trafficking (Methamphetamine)', 'criminal_history': '2 Prior Criminal Convictions', 'sentence': [5475, 3285, 3650, 3650]}\n",
      "589\n",
      "\n",
      "\n",
      "4\n",
      "{'age': 60, 'sex': 'Male', 'race': 'Black', 'employment': 'Unemployed', 'charge': 'Drug Trafficking (Methamphetamine)', 'criminal_history': 'No Prior Criminal Convictions', 'sentence': [3650, 365, 3650, 3650]}\n",
      "600\n",
      "\n",
      "\n",
      "1\n",
      "{'age': 60, 'sex': 'Male', 'race': 'Black', 'employment': 'Unemployed', 'charge': 'Drug Trafficking (Methamphetamine)', 'criminal_history': '2 Prior Criminal Convictions', 'sentence': [3650]}\n",
      "601\n",
      "\n",
      "\n",
      "1\n",
      "{'age': 60, 'sex': 'Male', 'race': 'Black', 'employment': 'Unemployed', 'charge': 'Drug Trafficking (Methamphetamine)', 'criminal_history': '3 Prior Criminal Convictions', 'sentence': [5475]}\n",
      "602\n",
      "\n",
      "\n",
      "3\n",
      "{'age': 60, 'sex': 'Male', 'race': 'Black', 'employment': 'Unemployed', 'charge': 'Unlawful Possession of a Firearm', 'criminal_history': '2 Prior Criminal Convictions', 'sentence': [365, 365, 730]}\n",
      "604\n",
      "\n",
      "\n",
      "3\n",
      "{'age': 60, 'sex': 'Male', 'race': 'Black', 'employment': 'Unemployed', 'charge': 'Unlawful Possession of a Firearm', 'criminal_history': '3 Prior Criminal Convictions', 'sentence': [730, 365, 730]}\n",
      "605\n",
      "\n",
      "\n",
      "13\n",
      "{'age': 60, 'sex': 'Male', 'race': 'Black', 'employment': 'Employed', 'charge': 'Drug Trafficking (Methamphetamine)', 'criminal_history': 'No Prior Criminal Convictions', 'sentence': [5, 1, 825, 40, 14, 600, 1825, 3650, 365, 1, 3650, 10, 3650]}\n",
      "612\n",
      "\n",
      "\n",
      "7\n",
      "{'age': 60, 'sex': 'Male', 'race': 'Black', 'employment': 'Employed', 'charge': 'Drug Trafficking (Methamphetamine)', 'criminal_history': '2 Prior Criminal Convictions', 'sentence': [15, 365, 5, 475, 120, 3650, 3650]}\n",
      "613\n",
      "\n",
      "\n",
      "7\n",
      "{'age': 60, 'sex': 'Male', 'race': 'Black', 'employment': 'Employed', 'charge': 'Drug Trafficking (Methamphetamine)', 'criminal_history': '3 Prior Criminal Convictions', 'sentence': [3650, 3650, 3650, 10, 3, 650, 5475]}\n",
      "614\n",
      "\n",
      "\n",
      "2\n",
      "{'age': 60, 'sex': 'Male', 'race': 'Hispanic', 'employment': 'Unemployed', 'charge': 'Drug Trafficking (Methamphetamine)', 'criminal_history': '2 Prior Criminal Convictions', 'sentence': [3650, 7300]}\n",
      "625\n",
      "\n",
      "\n",
      "4\n",
      "{'age': 60, 'sex': 'Male', 'race': 'Hispanic', 'employment': 'Unemployed', 'charge': 'Drug Trafficking (Methamphetamine)', 'criminal_history': '3 Prior Criminal Convictions', 'sentence': [3650, 3650, 3650, 3650]}\n",
      "626\n",
      "\n",
      "\n",
      "4\n",
      "{'age': 60, 'sex': 'Male', 'race': 'Hispanic', 'employment': 'Unemployed', 'charge': 'Unlawful Possession of a Firearm', 'criminal_history': '3 Prior Criminal Convictions', 'sentence': [365, 365, 365, 365]}\n",
      "629\n",
      "\n",
      "\n",
      "7\n",
      "{'age': 60, 'sex': 'Male', 'race': 'Hispanic', 'employment': 'Employed', 'charge': 'Drug Trafficking (Methamphetamine)', 'criminal_history': '2 Prior Criminal Convictions', 'sentence': [5480, 3650, 3650, 5, 1, 825, 3650]}\n",
      "637\n",
      "\n",
      "\n",
      "4\n",
      "{'age': 60, 'sex': 'Male', 'race': 'Asian', 'employment': 'Unemployed', 'charge': 'Drug Trafficking (Methamphetamine)', 'criminal_history': 'No Prior Criminal Convictions', 'sentence': [5475, 3650, 3650, 3650]}\n",
      "648\n",
      "\n",
      "\n",
      "9\n",
      "{'age': 60, 'sex': 'Male', 'race': 'Asian', 'employment': 'Employed', 'charge': 'Drug Trafficking (Methamphetamine)', 'criminal_history': '2 Prior Criminal Convictions', 'sentence': [3650, 7300, 10, 3650, 40, 14600, 29200, 3650, 1095]}\n",
      "661\n",
      "\n",
      "\n",
      "2\n",
      "{'age': 60, 'sex': 'Female', 'race': 'Black', 'employment': 'Unemployed', 'charge': 'Drug Trafficking (Methamphetamine)', 'criminal_history': '2 Prior Criminal Convictions', 'sentence': [3650, 3650]}\n",
      "697\n",
      "\n",
      "\n",
      "4\n",
      "{'age': 60, 'sex': 'Female', 'race': 'Black', 'employment': 'Unemployed', 'charge': 'Drug Trafficking (Methamphetamine)', 'criminal_history': '3 Prior Criminal Convictions', 'sentence': [3650, 5, 1825, 1825]}\n",
      "698\n",
      "\n",
      "\n",
      "4\n",
      "{'age': 60, 'sex': 'Female', 'race': 'Black', 'employment': 'Unemployed', 'charge': 'Unlawful Possession of a Firearm', 'criminal_history': '2 Prior Criminal Convictions', 'sentence': [180, 365, 730, 365]}\n",
      "700\n",
      "\n",
      "\n",
      "6\n",
      "{'age': 60, 'sex': 'Female', 'race': 'Black', 'employment': 'Unemployed', 'charge': 'Unlawful Possession of a Firearm', 'criminal_history': '3 Prior Criminal Convictions', 'sentence': [365, 365, 1460, 365, 730, 365]}\n",
      "701\n",
      "\n",
      "\n",
      "4\n",
      "{'age': 60, 'sex': 'Female', 'race': 'Black', 'employment': 'Employed', 'charge': 'Drug Trafficking (Methamphetamine)', 'criminal_history': 'No Prior Criminal Convictions', 'sentence': [1825, 3650, 730, 3650]}\n",
      "708\n",
      "\n",
      "\n",
      "3\n",
      "{'age': 60, 'sex': 'Female', 'race': 'Black', 'employment': 'Employed', 'charge': 'Drug Trafficking (Methamphetamine)', 'criminal_history': '2 Prior Criminal Convictions', 'sentence': [365, 3650, 5475]}\n",
      "709\n",
      "\n",
      "\n",
      "4\n",
      "{'age': 60, 'sex': 'Female', 'race': 'Black', 'employment': 'Employed', 'charge': 'Drug Trafficking (Methamphetamine)', 'criminal_history': '3 Prior Criminal Convictions', 'sentence': [3650, 3650, 3650, 3650]}\n",
      "710\n",
      "\n",
      "\n",
      "1\n",
      "{'age': 60, 'sex': 'Female', 'race': 'Black', 'employment': 'Employed', 'charge': 'Unlawful Possession of a Firearm', 'criminal_history': '3 Prior Criminal Convictions', 'sentence': [365]}\n",
      "713\n",
      "\n",
      "\n",
      "3\n",
      "{'age': 60, 'sex': 'Female', 'race': 'Hispanic', 'employment': 'Unemployed', 'charge': 'Drug Trafficking (Methamphetamine)', 'criminal_history': '2 Prior Criminal Convictions', 'sentence': [3650, 5475, 1095]}\n",
      "721\n",
      "\n",
      "\n",
      "4\n",
      "{'age': 60, 'sex': 'Female', 'race': 'Hispanic', 'employment': 'Unemployed', 'charge': 'Drug Trafficking (Methamphetamine)', 'criminal_history': '3 Prior Criminal Convictions', 'sentence': [5475, 3650, 3650, 3650]}\n",
      "722\n",
      "\n",
      "\n",
      "4\n",
      "{'age': 60, 'sex': 'Female', 'race': 'Hispanic', 'employment': 'Employed', 'charge': 'Unlawful Possession of a Firearm', 'criminal_history': '2 Prior Criminal Convictions', 'sentence': [365, 365, 365, 465]}\n",
      "736\n",
      "\n",
      "\n",
      "4\n",
      "{'age': 60, 'sex': 'Female', 'race': 'Asian', 'employment': 'Unemployed', 'charge': 'Drug Trafficking (Methamphetamine)', 'criminal_history': 'No Prior Criminal Convictions', 'sentence': [3650, 3650, 3650, 3650]}\n",
      "744\n",
      "\n",
      "\n",
      "4\n",
      "{'age': 60, 'sex': 'Female', 'race': 'Asian', 'employment': 'Unemployed', 'charge': 'Drug Trafficking (Methamphetamine)', 'criminal_history': '3 Prior Criminal Convictions', 'sentence': [3650, 3650, 5475, 5475]}\n",
      "746\n",
      "\n",
      "\n",
      "7\n",
      "{'age': 60, 'sex': 'Female', 'race': 'Asian', 'employment': 'Employed', 'charge': 'Drug Trafficking (Methamphetamine)', 'criminal_history': '2 Prior Criminal Convictions', 'sentence': [3650, 5475, 10, 12, 3650, 4380, 3650]}\n",
      "757\n",
      "\n",
      "\n"
     ]
    }
   ],
   "source": [
    "#check for sentences with too many values\n",
    "exception_dicts = []\n",
    "for i, d in enumerate(data):\n",
    "    if len(d['sentence']) != 5:\n",
    "        print(len(d['sentence']))\n",
    "        print(d)\n",
    "        print(i)\n",
    "        print('\\n')\n",
    "        exception_dicts.append(d)"
   ]
  },
  {
   "cell_type": "code",
   "execution_count": 9,
   "metadata": {},
   "outputs": [
    {
     "name": "stdout",
     "output_type": "stream",
     "text": [
      "45\n",
      "143\n"
     ]
    }
   ],
   "source": [
    "comma_vals = 0\n",
    "refusals = 0\n",
    "for d in exception_dicts:\n",
    "    if len(d['sentence']) > 5:\n",
    "        comma_vals += 1\n",
    "    elif len(d['sentence']) < 5:\n",
    "        refusals += 1\n",
    "    else:\n",
    "        continue\n",
    "\n",
    "print(comma_vals)\n",
    "print(refusals)\n"
   ]
  },
  {
   "cell_type": "code",
   "execution_count": 10,
   "metadata": {},
   "outputs": [],
   "source": [
    "refusal_dicts = []\n",
    "for d in exception_dicts:\n",
    "    if len(d['sentence']) < 5:\n",
    "        refusal_dicts.append(d)"
   ]
  },
  {
   "cell_type": "code",
   "execution_count": 11,
   "metadata": {},
   "outputs": [
    {
     "name": "stdout",
     "output_type": "stream",
     "text": [
      "White refusals = 21\n",
      "Black refusals = 56\n",
      "Hispanic refusals = 38\n",
      "Asian refusals = 28\n"
     ]
    }
   ],
   "source": [
    "race_counts = Counter(d['race'] for d in refusal_dicts)\n",
    "\n",
    "for race, count in race_counts.items():\n",
    "    print(f\"{race} refusals = {count}\")"
   ]
  },
  {
   "cell_type": "code",
   "execution_count": null,
   "metadata": {},
   "outputs": [],
   "source": [
    "exception_dicts"
   ]
  },
  {
   "cell_type": "code",
   "execution_count": 3,
   "metadata": {},
   "outputs": [],
   "source": [
    "def all_builder(dataset, tuple_array):\n",
    "    sentences = {}\n",
    "\n",
    "    for t in tuple_array:\n",
    "        key = t[0]\n",
    "        value = t[1]\n",
    "\n",
    "        sentence_list = []\n",
    "        \n",
    "        for d in dataset:\n",
    "            if d[key] == value:\n",
    "                for v in d['sentence']:\n",
    "                    sentence_list.append(v)\n",
    "        sentence_list = np.array(sentence_list)\n",
    "\n",
    "        sentences[value] = sentence_list\n",
    "\n",
    "    return sentences\n",
    "    \n",
    "                                "
   ]
  },
  {
   "cell_type": "code",
   "execution_count": 4,
   "metadata": {},
   "outputs": [],
   "source": [
    "coefficent_of_vars = []\n",
    "for d in data:\n",
    "    x = d['sentence']\n",
    "    if statistics.stdev(x) == 0:\n",
    "        coefficent_of_vars.append(0)\n",
    "    else:\n",
    "        c_of_v = statistics.stdev(x)/statistics.mean(x)\n",
    "        coefficent_of_vars.append(c_of_v)\n"
   ]
  },
  {
   "cell_type": "code",
   "execution_count": 5,
   "metadata": {},
   "outputs": [
    {
     "data": {
      "text/plain": [
       "0.419992594987746"
      ]
     },
     "execution_count": 5,
     "metadata": {},
     "output_type": "execute_result"
    }
   ],
   "source": [
    "statistics.mean(coefficent_of_vars)"
   ]
  },
  {
   "cell_type": "code",
   "execution_count": 6,
   "metadata": {},
   "outputs": [
    {
     "name": "stdout",
     "output_type": "stream",
     "text": [
      "White average sentence length =  747.2\n",
      "Black average sentence length =  766.4166666666666\n",
      "Hispanic average sentence length =  763.6677083333333\n",
      "Asian average sentence length =  791.84375\n",
      "Male average sentence length =  830.3984375\n",
      "Female average sentence length =  704.165625\n",
      "No Prior Criminal Convictions average sentence length =  505.353125\n",
      "2 Prior Criminal Convictions average sentence length =  814.2390625\n",
      "3 Prior Criminal Convictions average sentence length =  982.25390625\n",
      "18 average sentence length =  685.8645833333334\n",
      "32 average sentence length =  683.125\n",
      "46 average sentence length =  748.4375\n",
      "60 average sentence length =  951.7010416666667\n",
      "Employed average sentence length =  765.5552083333333\n",
      "Unemployed average sentence length =  769.0088541666667\n"
     ]
    }
   ],
   "source": [
    "all_sentences = all_builder(data, [['race', 'White'], ['race', 'Black'], ['race', 'Hispanic'], ['race', 'Asian'], ['sex', 'Male'], ['sex', 'Female'], ['criminal_history', 'No Prior Criminal Convictions'], ['criminal_history', '2 Prior Criminal Convictions'], ['criminal_history', '3 Prior Criminal Convictions'], ['age', 18], ['age', 32], ['age', 46], ['age', 60], ['employment', 'Employed'], ['employment', 'Unemployed']])\n",
    "\n",
    "for key, value in all_sentences.items():\n",
    "    \n",
    "    print(key, \"average sentence length = \", np.mean(value))"
   ]
  },
  {
   "cell_type": "code",
   "execution_count": 7,
   "metadata": {},
   "outputs": [],
   "source": [
    "all_sentences_df = pd.DataFrame.from_dict(all_sentences['Hispanic'])\n",
    "df_white = pd.DataFrame.from_dict(all_sentences['White'])"
   ]
  },
  {
   "cell_type": "code",
   "execution_count": 8,
   "metadata": {},
   "outputs": [],
   "source": [
    "male_dif_score = all_sentences['Male'] - all_sentences['Female']"
   ]
  },
  {
   "cell_type": "code",
   "execution_count": 9,
   "metadata": {},
   "outputs": [
    {
     "data": {
      "text/plain": [
       "126.2328125"
      ]
     },
     "execution_count": 9,
     "metadata": {},
     "output_type": "execute_result"
    }
   ],
   "source": [
    "np.mean(male_dif_score)"
   ]
  },
  {
   "cell_type": "code",
   "execution_count": 10,
   "metadata": {},
   "outputs": [
    {
     "data": {
      "text/plain": [
       "1920"
      ]
     },
     "execution_count": 10,
     "metadata": {},
     "output_type": "execute_result"
    }
   ],
   "source": [
    "len(male_dif_score)"
   ]
  },
  {
   "cell_type": "code",
   "execution_count": 11,
   "metadata": {},
   "outputs": [],
   "source": [
    "resample_one = np.random.choice(male_dif_score, size=1920, replace=True)"
   ]
  },
  {
   "cell_type": "code",
   "execution_count": 12,
   "metadata": {},
   "outputs": [],
   "source": [
    "resample_count = 0"
   ]
  },
  {
   "cell_type": "code",
   "execution_count": 13,
   "metadata": {},
   "outputs": [],
   "source": [
    "for i in range(10000):\n",
    "    if np.mean(np.random.choice(male_dif_score, size=1920, replace=True)) > 0:\n",
    "        resample_count += 1\n",
    "    else:\n",
    "        continue\n",
    "\n"
   ]
  },
  {
   "cell_type": "code",
   "execution_count": 14,
   "metadata": {},
   "outputs": [
    {
     "data": {
      "text/plain": [
       "9999"
      ]
     },
     "execution_count": 14,
     "metadata": {},
     "output_type": "execute_result"
    }
   ],
   "source": [
    "resample_count"
   ]
  },
  {
   "cell_type": "code",
   "execution_count": 15,
   "metadata": {},
   "outputs": [
    {
     "data": {
      "text/plain": [
       "9.999999999998899e-05"
      ]
     },
     "execution_count": 15,
     "metadata": {},
     "output_type": "execute_result"
    }
   ],
   "source": [
    "1 - (resample_count/10000)"
   ]
  },
  {
   "cell_type": "code",
   "execution_count": 16,
   "metadata": {},
   "outputs": [],
   "source": [
    "b_dif_score = all_sentences['Black'] - all_sentences['White']"
   ]
  },
  {
   "cell_type": "code",
   "execution_count": 17,
   "metadata": {},
   "outputs": [
    {
     "data": {
      "text/plain": [
       "19.216666666666665"
      ]
     },
     "execution_count": 17,
     "metadata": {},
     "output_type": "execute_result"
    }
   ],
   "source": [
    "np.mean(b_dif_score)"
   ]
  },
  {
   "cell_type": "code",
   "execution_count": 18,
   "metadata": {},
   "outputs": [
    {
     "data": {
      "text/plain": [
       "960"
      ]
     },
     "execution_count": 18,
     "metadata": {},
     "output_type": "execute_result"
    }
   ],
   "source": [
    "len(b_dif_score)"
   ]
  },
  {
   "cell_type": "code",
   "execution_count": 19,
   "metadata": {},
   "outputs": [],
   "source": [
    "resample_count = 0"
   ]
  },
  {
   "cell_type": "code",
   "execution_count": 20,
   "metadata": {},
   "outputs": [
    {
     "name": "stdout",
     "output_type": "stream",
     "text": [
      "6606\n"
     ]
    },
    {
     "data": {
      "text/plain": [
       "0.33940000000000003"
      ]
     },
     "execution_count": 20,
     "metadata": {},
     "output_type": "execute_result"
    }
   ],
   "source": [
    "resample_count = 0\n",
    "\n",
    "for i in range(10000):\n",
    "    if np.mean(np.random.choice(b_dif_score, size=960, replace=True)) > 0:\n",
    "        resample_count += 1\n",
    "    else:\n",
    "        continue\n",
    "print(resample_count)\n",
    "1 - (resample_count/10000)"
   ]
  },
  {
   "cell_type": "code",
   "execution_count": 21,
   "metadata": {},
   "outputs": [
    {
     "data": {
      "text/plain": [
       "16.467708333333334"
      ]
     },
     "execution_count": 21,
     "metadata": {},
     "output_type": "execute_result"
    }
   ],
   "source": [
    "h_dif_score = all_sentences['Hispanic'] - all_sentences['White']\n",
    "np.mean(h_dif_score)"
   ]
  },
  {
   "cell_type": "code",
   "execution_count": 22,
   "metadata": {},
   "outputs": [
    {
     "name": "stdout",
     "output_type": "stream",
     "text": [
      "6381\n"
     ]
    },
    {
     "data": {
      "text/plain": [
       "0.3619"
      ]
     },
     "execution_count": 22,
     "metadata": {},
     "output_type": "execute_result"
    }
   ],
   "source": [
    "resample_count = 0\n",
    "\n",
    "for i in range(10000):\n",
    "    if np.mean(np.random.choice(h_dif_score, size=960, replace=True)) > 0:\n",
    "        resample_count += 1\n",
    "    else:\n",
    "        continue\n",
    "print(resample_count)\n",
    "1 - (resample_count/10000)"
   ]
  },
  {
   "cell_type": "code",
   "execution_count": 23,
   "metadata": {},
   "outputs": [
    {
     "data": {
      "text/plain": [
       "44.64375"
      ]
     },
     "execution_count": 23,
     "metadata": {},
     "output_type": "execute_result"
    }
   ],
   "source": [
    "a_dif_score = all_sentences['Asian'] - all_sentences['White']\n",
    "np.mean(a_dif_score)"
   ]
  },
  {
   "cell_type": "code",
   "execution_count": 24,
   "metadata": {},
   "outputs": [
    {
     "name": "stdout",
     "output_type": "stream",
     "text": [
      "8219\n"
     ]
    },
    {
     "data": {
      "text/plain": [
       "0.17810000000000004"
      ]
     },
     "execution_count": 24,
     "metadata": {},
     "output_type": "execute_result"
    }
   ],
   "source": [
    "resample_count = 0\n",
    "\n",
    "for i in range(10000):\n",
    "    if np.mean(np.random.choice(a_dif_score, size=960, replace=True)) > 0:\n",
    "        resample_count += 1\n",
    "    else:\n",
    "        continue\n",
    "print(resample_count)\n",
    "1 - (resample_count/10000)"
   ]
  },
  {
   "cell_type": "code",
   "execution_count": 25,
   "metadata": {},
   "outputs": [
    {
     "data": {
      "text/plain": [
       "3.4536458333333333"
      ]
     },
     "execution_count": 25,
     "metadata": {},
     "output_type": "execute_result"
    }
   ],
   "source": [
    "employment_dif_score = all_sentences['Unemployed'] - all_sentences['Employed']\n",
    "np.mean(employment_dif_score)"
   ]
  },
  {
   "cell_type": "code",
   "execution_count": 26,
   "metadata": {},
   "outputs": [
    {
     "data": {
      "text/plain": [
       "1920"
      ]
     },
     "execution_count": 26,
     "metadata": {},
     "output_type": "execute_result"
    }
   ],
   "source": [
    "len(employment_dif_score)"
   ]
  },
  {
   "cell_type": "code",
   "execution_count": 27,
   "metadata": {},
   "outputs": [
    {
     "name": "stdout",
     "output_type": "stream",
     "text": [
      "5406\n"
     ]
    },
    {
     "data": {
      "text/plain": [
       "0.45940000000000003"
      ]
     },
     "execution_count": 27,
     "metadata": {},
     "output_type": "execute_result"
    }
   ],
   "source": [
    "resample_count = 0\n",
    "\n",
    "for i in range(10000):\n",
    "    if np.mean(np.random.choice(employment_dif_score, size=1920, replace=True)) > 0:\n",
    "        resample_count += 1\n",
    "    else:\n",
    "        continue\n",
    "print(resample_count)\n",
    "1 - (resample_count/10000)"
   ]
  },
  {
   "cell_type": "code",
   "execution_count": 28,
   "metadata": {},
   "outputs": [],
   "source": [
    "age_data = [all_sentences[18], all_sentences[32], all_sentences[46], all_sentences[60]]"
   ]
  },
  {
   "cell_type": "code",
   "execution_count": 29,
   "metadata": {},
   "outputs": [
    {
     "data": {
      "image/png": "[encoded data removed]",
      "text/plain": [
       "<Figure size 640x480 with 1 Axes>"
      ]
     },
     "metadata": {},
     "output_type": "display_data"
    }
   ],
   "source": [
    "fig, ax = plt.subplots()\n",
    "ax.boxplot(age_data, labels=['18', '32', '46', '60'], showfliers=False, showmeans=True)\n",
    "ax.grid()\n",
    "legend_handle_mean = mpatches.Patch(color='green', label='Mean Sentence')\n",
    "legend_handle_median = mpatches.Patch(color='orange', label='Median Sentence')\n",
    "plt.legend(handles=[legend_handle_mean,legend_handle_median])\n",
    "plt.ylabel(\"Sentence Length in Days\")\n",
    "plt.title('Suggested Sentence Length by Age')\n",
    "plt.show()"
   ]
  },
  {
   "cell_type": "code",
   "execution_count": 30,
   "metadata": {},
   "outputs": [],
   "source": [
    "crim_history_data = [all_sentences['No Prior Criminal Convictions'], all_sentences['2 Prior Criminal Convictions'], all_sentences['3 Prior Criminal Convictions']]"
   ]
  },
  {
   "cell_type": "code",
   "execution_count": 31,
   "metadata": {},
   "outputs": [
    {
     "data": {
      "image/png": "[encoded data removed]",
      "text/plain": [
       "<Figure size 640x480 with 1 Axes>"
      ]
     },
     "metadata": {},
     "output_type": "display_data"
    }
   ],
   "source": [
    "fig, ax = plt.subplots()\n",
    "ax.boxplot(crim_history_data, labels=['No Prior Convictions', '2 Prior Convictions', '3 Prior Convictions'], showfliers=False, showmeans=True)\n",
    "ax.grid()\n",
    "legend_handle_mean = mpatches.Patch(color='green', label='Mean Sentence')\n",
    "legend_handle_median = mpatches.Patch(color='orange', label='Median Sentence')\n",
    "plt.legend(handles=[legend_handle_mean,legend_handle_median])\n",
    "plt.ylabel(\"Sentence Length in Days\")\n",
    "plt.title('Suggested Sentence Length by Criminal History')\n",
    "plt.show()"
   ]
  },
  {
   "cell_type": "code",
   "execution_count": 32,
   "metadata": {},
   "outputs": [],
   "source": [
    "employment_data = [all_sentences['Unemployed'], all_sentences['Employed']]"
   ]
  },
  {
   "cell_type": "code",
   "execution_count": 33,
   "metadata": {},
   "outputs": [
    {
     "data": {
      "image/png": "[encoded data removed]",
      "text/plain": [
       "<Figure size 640x480 with 1 Axes>"
      ]
     },
     "metadata": {},
     "output_type": "display_data"
    }
   ],
   "source": [
    "fig, ax = plt.subplots()\n",
    "ax.boxplot(employment_data, labels=['Unemployed', 'Employed',], showfliers=False, showmeans=True)\n",
    "ax.grid()\n",
    "legend_handle_mean = mpatches.Patch(color='green', label='Mean Sentence')\n",
    "legend_handle_median = mpatches.Patch(color='orange', label='Median Sentence')\n",
    "plt.legend(handles=[legend_handle_mean,legend_handle_median])\n",
    "plt.ylabel(\"Sentence Length in Days\")\n",
    "plt.title('Suggested Sentence Length by Employment Status')\n",
    "plt.show()"
   ]
  },
  {
   "cell_type": "code",
   "execution_count": 34,
   "metadata": {},
   "outputs": [],
   "source": [
    "sex_data = [all_sentences['Male'], all_sentences['Female']]"
   ]
  },
  {
   "cell_type": "code",
   "execution_count": 35,
   "metadata": {},
   "outputs": [
    {
     "data": {
      "image/png": "[encoded data removed]",
      "text/plain": [
       "<Figure size 640x480 with 1 Axes>"
      ]
     },
     "metadata": {},
     "output_type": "display_data"
    }
   ],
   "source": [
    "fig, ax = plt.subplots()\n",
    "ax.boxplot(sex_data, labels=['Male', 'Female',], showfliers=False, showmeans=True)\n",
    "ax.grid()\n",
    "legend_handle_mean = mpatches.Patch(color='green', label='Mean Sentence')\n",
    "legend_handle_median = mpatches.Patch(color='orange', label='Median Sentence')\n",
    "plt.legend(handles=[legend_handle_mean,legend_handle_median])\n",
    "plt.ylabel(\"Sentence Length in Days\")\n",
    "plt.title('Suggested Sentence Length by Sex')\n",
    "plt.show()"
   ]
  },
  {
   "cell_type": "code",
   "execution_count": 36,
   "metadata": {},
   "outputs": [],
   "source": [
    "race_data = [all_sentences['White'], all_sentences['Black'], all_sentences['Hispanic'], all_sentences['Asian']]"
   ]
  },
  {
   "cell_type": "code",
   "execution_count": 37,
   "metadata": {},
   "outputs": [
    {
     "data": {
      "image/png": "[encoded data removed]",
      "text/plain": [
       "<Figure size 640x480 with 1 Axes>"
      ]
     },
     "metadata": {},
     "output_type": "display_data"
    }
   ],
   "source": [
    "fig, ax = plt.subplots()\n",
    "ax.boxplot(race_data, labels=['White', 'Black', 'Hispanic', 'Asian'], showfliers=False, showmeans=True)\n",
    "ax.grid(True)\n",
    "plt.title('Suggested Sentence Length by Race')\n",
    "plt.ylabel(\"Sentence Length in Days\")\n",
    "legend_handle_mean = mpatches.Patch(color='green', label='Mean Sentence')\n",
    "legend_handle_median = mpatches.Patch(color='orange', label='Median Sentence')\n",
    "plt.legend(handles=[legend_handle_mean,legend_handle_median])\n",
    "plt.show()"
   ]
  },
  {
   "cell_type": "code",
   "execution_count": null,
   "metadata": {},
   "outputs": [],
   "source": []
  }
 ],
 "metadata": {
  "kernelspec": {
   "display_name": "Python 3",
   "language": "python",
   "name": "python3"
  },
  "language_info": {
   "codemirror_mode": {
    "name": "ipython",
    "version": 3
   },
   "file_extension": ".py",
   "mimetype": "text/x-python",
   "name": "python",
   "nbconvert_exporter": "python",
   "pygments_lexer": "ipython3",
   "version": "3.10.12"
  }
 },
 "nbformat": 4,
 "nbformat_minor": 2
}
